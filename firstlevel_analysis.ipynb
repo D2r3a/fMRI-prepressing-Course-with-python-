{
 "cells": [
  {
   "cell_type": "markdown",
   "metadata": {},
   "source": [
    "# fisrt level analysis \n",
    "first level is for one subject but we can have different sesseion \n",
    "as we did in spm this notebook including increasing the contrast , GLM model , beta map , z score , ... "
   ]
  },
  {
   "cell_type": "markdown",
   "metadata": {},
   "source": [
    "what we should serach on : \n",
    "    note : what we should seah on drift mode , HRF model ,\n",
    "    note 2 : look at document of nilearn !!!\n",
    "    look at GLM and different regressor models and why we use them "
   ]
  },
  {
   "cell_type": "markdown",
   "metadata": {},
   "source": [
    "the task : \n",
    "Get the z_map of each contrast for Sub-02(run01 - run09):\n",
    "\n",
    "Famous >> Scrambled\n",
    "\n",
    "Unfamiliar >> Scrambled\n",
    "\n",
    "Face >> Scrambled\n",
    "\n",
    "Famous >> Unfamiliar\n",
    "note : use loop \n",
    "note : better use the CONN for preprocessing "
   ]
  },
  {
   "cell_type": "markdown",
   "metadata": {},
   "source": [
    "### Note of the 2nd session \n",
    "\n",
    "z map concluded for one subject using different runs of the subject. \n",
    "**we need loop**\n",
    " becuse we we have to reads all the data for each subjects, read for each subject "
   ]
  },
  {
   "cell_type": "markdown",
   "metadata": {},
   "source": [
    "## CODE "
   ]
  },
  {
   "cell_type": "code",
   "execution_count": 14,
   "metadata": {},
   "outputs": [],
   "source": [
    "import numpy as np \n",
    "import pandas as pd \n",
    "import matplotlib as plt \n",
    "import nibabel as nib\n",
    "from nilearn import plotting \n",
    "from nilearn.image import mean_img, index_img\n",
    "from nilearn.glm import first_level, threshold_stats_img"
   ]
  },
  {
   "cell_type": "code",
   "execution_count": 35,
   "metadata": {},
   "outputs": [],
   "source": [
    "run1 = nib.load(r'D:\\research\\mentoring\\python_fMRI\\first_week\\sub_2\\Func\\Run_1\\sub-02_ses-mri_task-facerecognition_run-01_bold.nii')\n",
    "run2 = nib.load(r'D:\\research\\mentoring\\python_fMRI\\first_week\\sub_2\\Func\\Run_2\\sub-02_ses-mri_task-facerecognition_run-02_bold.nii')\n",
    "run3 = nib.load(r'D:\\research\\mentoring\\python_fMRI\\data\\sub_2\\func\\sub-02_ses-mri_task-facerecognition_run-03_bold.nii')\n",
    "run4 = nib.load(r'D:\\research\\mentoring\\python_fMRI\\data\\sub_2\\func\\sub-02_ses-mri_task-facerecognition_run-04_bold.nii')\n",
    "run5 = nib.load(r'D:\\research\\mentoring\\python_fMRI\\data\\sub_2\\func\\sub-02_ses-mri_task-facerecognition_run-05_bold.nii')\n",
    "run6 = nib.load(r'D:\\research\\mentoring\\python_fMRI\\data\\sub_2\\func\\sub-02_ses-mri_task-facerecognition_run-06_bold.nii')\n",
    "run7 = nib.load(r'D:\\research\\mentoring\\python_fMRI\\data\\sub_2\\func\\sub-02_ses-mri_task-facerecognition_run-07_bold.nii')\n",
    "run8 = nib.load(r'D:\\research\\mentoring\\python_fMRI\\data\\sub_2\\func\\sub-02_ses-mri_task-facerecognition_run-08_bold.nii')\n",
    "run9 = nib.load(r'D:\\research\\mentoring\\python_fMRI\\data\\sub_2\\func\\sub-02_ses-mri_task-facerecognition_run-09_bold.nii')\n",
    "\n",
    "\n",
    "event1= pd.read_table(r'D:\\research\\mentoring\\python_fMRI\\first_week\\sub_2\\Func\\Run_1\\sub-02_ses-mri_task-facerecognition_run-01_events.tsv')\n",
    "event2= pd.read_table(r'D:\\research\\mentoring\\python_fMRI\\first_week\\sub_2\\Func\\Run_2\\sub-02_ses-mri_task-facerecognition_run-02_events.tsv')\n",
    "event3= pd.read_table(r'D:\\research\\mentoring\\python_fMRI\\data\\sub_2\\func\\sub-02_ses-mri_task-facerecognition_run-03_events.tsv')\n",
    "event4= pd.read_table(r'D:\\research\\mentoring\\python_fMRI\\data\\sub_2\\func\\sub-02_ses-mri_task-facerecognition_run-04_events.tsv')\n",
    "event5= pd.read_table(r'D:\\research\\mentoring\\python_fMRI\\data\\sub_2\\func\\sub-02_ses-mri_task-facerecognition_run-05_events.tsv')\n",
    "event6= pd.read_table(r'D:\\research\\mentoring\\python_fMRI\\data\\sub_2\\func\\sub-02_ses-mri_task-facerecognition_run-06_events.tsv')\n",
    "event7= pd.read_table(r'D:\\research\\mentoring\\python_fMRI\\data\\sub_2\\func\\sub-02_ses-mri_task-facerecognition_run-07_events.tsv')\n",
    "event8= pd.read_table(r'D:\\research\\mentoring\\python_fMRI\\data\\sub_2\\func\\sub-02_ses-mri_task-facerecognition_run-08_events.tsv')\n",
    "event9= pd.read_table(r'D:\\research\\mentoring\\python_fMRI\\data\\sub_2\\func\\sub-02_ses-mri_task-facerecognition_run-09_events.tsv')"
   ]
  },
  {
   "cell_type": "code",
   "execution_count": 36,
   "metadata": {},
   "outputs": [],
   "source": [
    "tr = 2 \n",
    "n_volumes =run1.shape[3] \n",
    "frame_times = np.arange(n_volumes)*tr"
   ]
  },
  {
   "cell_type": "code",
   "execution_count": 37,
   "metadata": {},
   "outputs": [
    {
     "data": {
      "text/plain": [
       "array([  0,   2,   4,   6,   8,  10,  12,  14,  16,  18,  20,  22,  24,\n",
       "        26,  28,  30,  32,  34,  36,  38,  40,  42,  44,  46,  48,  50,\n",
       "        52,  54,  56,  58,  60,  62,  64,  66,  68,  70,  72,  74,  76,\n",
       "        78,  80,  82,  84,  86,  88,  90,  92,  94,  96,  98, 100, 102,\n",
       "       104, 106, 108, 110, 112, 114, 116, 118, 120, 122, 124, 126, 128,\n",
       "       130, 132, 134, 136, 138, 140, 142, 144, 146, 148, 150, 152, 154,\n",
       "       156, 158, 160, 162, 164, 166, 168, 170, 172, 174, 176, 178, 180,\n",
       "       182, 184, 186, 188, 190, 192, 194, 196, 198, 200, 202, 204, 206,\n",
       "       208, 210, 212, 214, 216, 218, 220, 222, 224, 226, 228, 230, 232,\n",
       "       234, 236, 238, 240, 242, 244, 246, 248, 250, 252, 254, 256, 258,\n",
       "       260, 262, 264, 266, 268, 270, 272, 274, 276, 278, 280, 282, 284,\n",
       "       286, 288, 290, 292, 294, 296, 298, 300, 302, 304, 306, 308, 310,\n",
       "       312, 314, 316, 318, 320, 322, 324, 326, 328, 330, 332, 334, 336,\n",
       "       338, 340, 342, 344, 346, 348, 350, 352, 354, 356, 358, 360, 362,\n",
       "       364, 366, 368, 370, 372, 374, 376, 378, 380, 382, 384, 386, 388,\n",
       "       390, 392, 394, 396, 398, 400, 402, 404, 406, 408, 410, 412, 414])"
      ]
     },
     "execution_count": 37,
     "metadata": {},
     "output_type": "execute_result"
    }
   ],
   "source": [
    "frame_times"
   ]
  },
  {
   "cell_type": "code",
   "execution_count": 40,
   "metadata": {},
   "outputs": [
    {
     "data": {
      "text/html": [
       "<div>\n",
       "<style scoped>\n",
       "    .dataframe tbody tr th:only-of-type {\n",
       "        vertical-align: middle;\n",
       "    }\n",
       "\n",
       "    .dataframe tbody tr th {\n",
       "        vertical-align: top;\n",
       "    }\n",
       "\n",
       "    .dataframe thead th {\n",
       "        text-align: right;\n",
       "    }\n",
       "</style>\n",
       "<table border=\"1\" class=\"dataframe\">\n",
       "  <thead>\n",
       "    <tr style=\"text-align: right;\">\n",
       "      <th></th>\n",
       "      <th>onset</th>\n",
       "      <th>duration</th>\n",
       "      <th>circle_duration</th>\n",
       "      <th>stim_type</th>\n",
       "      <th>trigger</th>\n",
       "      <th>button_pushed</th>\n",
       "      <th>response_time</th>\n",
       "      <th>stim_file</th>\n",
       "    </tr>\n",
       "  </thead>\n",
       "  <tbody>\n",
       "    <tr>\n",
       "      <th>0</th>\n",
       "      <td>0.000</td>\n",
       "      <td>0.851</td>\n",
       "      <td>0.585</td>\n",
       "      <td>UNFAMILIAR</td>\n",
       "      <td>13</td>\n",
       "      <td>7</td>\n",
       "      <td>1.314</td>\n",
       "      <td>func/u015.bmp</td>\n",
       "    </tr>\n",
       "    <tr>\n",
       "      <th>1</th>\n",
       "      <td>3.056</td>\n",
       "      <td>0.812</td>\n",
       "      <td>0.447</td>\n",
       "      <td>UNFAMILIAR</td>\n",
       "      <td>14</td>\n",
       "      <td>7</td>\n",
       "      <td>0.978</td>\n",
       "      <td>func/u015.bmp</td>\n",
       "    </tr>\n",
       "    <tr>\n",
       "      <th>2</th>\n",
       "      <td>6.364</td>\n",
       "      <td>0.915</td>\n",
       "      <td>0.580</td>\n",
       "      <td>UNFAMILIAR</td>\n",
       "      <td>13</td>\n",
       "      <td>7</td>\n",
       "      <td>0.870</td>\n",
       "      <td>func/u012.bmp</td>\n",
       "    </tr>\n",
       "    <tr>\n",
       "      <th>3</th>\n",
       "      <td>9.604</td>\n",
       "      <td>0.940</td>\n",
       "      <td>0.514</td>\n",
       "      <td>UNFAMILIAR</td>\n",
       "      <td>13</td>\n",
       "      <td>4</td>\n",
       "      <td>0.754</td>\n",
       "      <td>func/u007.bmp</td>\n",
       "    </tr>\n",
       "    <tr>\n",
       "      <th>4</th>\n",
       "      <td>12.828</td>\n",
       "      <td>0.985</td>\n",
       "      <td>0.515</td>\n",
       "      <td>UNFAMILIAR</td>\n",
       "      <td>13</td>\n",
       "      <td>7</td>\n",
       "      <td>0.753</td>\n",
       "      <td>func/u013.bmp</td>\n",
       "    </tr>\n",
       "    <tr>\n",
       "      <th>...</th>\n",
       "      <td>...</td>\n",
       "      <td>...</td>\n",
       "      <td>...</td>\n",
       "      <td>...</td>\n",
       "      <td>...</td>\n",
       "      <td>...</td>\n",
       "      <td>...</td>\n",
       "      <td>...</td>\n",
       "    </tr>\n",
       "    <tr>\n",
       "      <th>94</th>\n",
       "      <td>382.753</td>\n",
       "      <td>0.894</td>\n",
       "      <td>0.519</td>\n",
       "      <td>SCRAMBLED</td>\n",
       "      <td>17</td>\n",
       "      <td>7</td>\n",
       "      <td>0.846</td>\n",
       "      <td>func/s013.bmp</td>\n",
       "    </tr>\n",
       "    <tr>\n",
       "      <th>95</th>\n",
       "      <td>385.943</td>\n",
       "      <td>0.850</td>\n",
       "      <td>0.528</td>\n",
       "      <td>SCRAMBLED</td>\n",
       "      <td>17</td>\n",
       "      <td>4</td>\n",
       "      <td>0.987</td>\n",
       "      <td>func/s003.bmp</td>\n",
       "    </tr>\n",
       "    <tr>\n",
       "      <th>96</th>\n",
       "      <td>388.951</td>\n",
       "      <td>0.830</td>\n",
       "      <td>0.401</td>\n",
       "      <td>SCRAMBLED</td>\n",
       "      <td>18</td>\n",
       "      <td>4</td>\n",
       "      <td>0.603</td>\n",
       "      <td>func/s003.bmp</td>\n",
       "    </tr>\n",
       "    <tr>\n",
       "      <th>97</th>\n",
       "      <td>392.057</td>\n",
       "      <td>0.993</td>\n",
       "      <td>0.506</td>\n",
       "      <td>SCRAMBLED</td>\n",
       "      <td>19</td>\n",
       "      <td>7</td>\n",
       "      <td>1.091</td>\n",
       "      <td>func/s006.bmp</td>\n",
       "    </tr>\n",
       "    <tr>\n",
       "      <th>98</th>\n",
       "      <td>394.846</td>\n",
       "      <td>0.012</td>\n",
       "      <td>0.000</td>\n",
       "      <td>NaN</td>\n",
       "      <td>999</td>\n",
       "      <td>0</td>\n",
       "      <td>0.000</td>\n",
       "      <td>func/Circle.bmp</td>\n",
       "    </tr>\n",
       "  </tbody>\n",
       "</table>\n",
       "<p>99 rows × 8 columns</p>\n",
       "</div>"
      ],
      "text/plain": [
       "      onset  duration  circle_duration   stim_type  trigger  button_pushed  \\\n",
       "0     0.000     0.851            0.585  UNFAMILIAR       13              7   \n",
       "1     3.056     0.812            0.447  UNFAMILIAR       14              7   \n",
       "2     6.364     0.915            0.580  UNFAMILIAR       13              7   \n",
       "3     9.604     0.940            0.514  UNFAMILIAR       13              4   \n",
       "4    12.828     0.985            0.515  UNFAMILIAR       13              7   \n",
       "..      ...       ...              ...         ...      ...            ...   \n",
       "94  382.753     0.894            0.519   SCRAMBLED       17              7   \n",
       "95  385.943     0.850            0.528   SCRAMBLED       17              4   \n",
       "96  388.951     0.830            0.401   SCRAMBLED       18              4   \n",
       "97  392.057     0.993            0.506   SCRAMBLED       19              7   \n",
       "98  394.846     0.012            0.000         NaN      999              0   \n",
       "\n",
       "    response_time        stim_file  \n",
       "0           1.314    func/u015.bmp  \n",
       "1           0.978    func/u015.bmp  \n",
       "2           0.870    func/u012.bmp  \n",
       "3           0.754    func/u007.bmp  \n",
       "4           0.753    func/u013.bmp  \n",
       "..            ...              ...  \n",
       "94          0.846    func/s013.bmp  \n",
       "95          0.987    func/s003.bmp  \n",
       "96          0.603    func/s003.bmp  \n",
       "97          1.091    func/s006.bmp  \n",
       "98          0.000  func/Circle.bmp  \n",
       "\n",
       "[99 rows x 8 columns]"
      ]
     },
     "execution_count": 40,
     "metadata": {},
     "output_type": "execute_result"
    }
   ],
   "source": [
    "event1"
   ]
  },
  {
   "cell_type": "code",
   "execution_count": 41,
   "metadata": {},
   "outputs": [],
   "source": [
    "event1.rename (columns = {'stim_type' : 'trial_type'}, inplace= True)\n",
    "event2.rename (columns = {'stim_type' : 'trial_type'}, inplace= True)\n",
    "event3.rename (columns = {'stim_type' : 'trial_type'}, inplace= True)\n",
    "event4.rename (columns = {'stim_type' : 'trial_type'}, inplace= True)\n",
    "event5.rename (columns = {'stim_type' : 'trial_type'}, inplace= True)\n",
    "event6.rename (columns = {'stim_type' : 'trial_type'}, inplace= True)\n",
    "event7.rename (columns = {'stim_type' : 'trial_type'}, inplace= True)\n",
    "event8.rename (columns = {'stim_type' : 'trial_type'}, inplace= True)\n",
    "event9.rename (columns = {'stim_type' : 'trial_type'}, inplace= True)\n"
   ]
  },
  {
   "cell_type": "code",
   "execution_count": 42,
   "metadata": {},
   "outputs": [],
   "source": [
    "event1= event1.dropna()\n",
    "event2= event2.dropna()\n",
    "event3= event3.dropna()\n",
    "event4= event4.dropna()\n",
    "even5= event5.dropna()\n",
    "event6= event6.dropna()\n",
    "event7= event7.dropna()\n",
    "event8= event8.dropna()\n",
    "event9= event9.dropna()"
   ]
  },
  {
   "cell_type": "code",
   "execution_count": 43,
   "metadata": {},
   "outputs": [
    {
     "name": "stderr",
     "output_type": "stream",
     "text": [
      "C:\\Users\\Dorsa\\AppData\\Local\\Packages\\PythonSoftwareFoundation.Python.3.10_qbz5n2kfra8p0\\LocalCache\\local-packages\\Python310\\site-packages\\nilearn\\glm\\first_level\\experimental_paradigm.py:167: UserWarning: The following unexpected columns in events data will be ignored: button_pushed, trigger, response_time, circle_duration, stim_file\n",
      "  warnings.warn(\n",
      "C:\\Users\\Dorsa\\AppData\\Local\\Packages\\PythonSoftwareFoundation.Python.3.10_qbz5n2kfra8p0\\LocalCache\\local-packages\\Python310\\site-packages\\nilearn\\glm\\first_level\\experimental_paradigm.py:167: UserWarning: The following unexpected columns in events data will be ignored: button_pushed, trigger, response_time, circle_duration, stim_file\n",
      "  warnings.warn(\n"
     ]
    },
    {
     "ename": "AttributeError",
     "evalue": "module 'matplotlib' has no attribute 'show'",
     "output_type": "error",
     "traceback": [
      "\u001b[1;31m---------------------------------------------------------------------------\u001b[0m",
      "\u001b[1;31mAttributeError\u001b[0m                            Traceback (most recent call last)",
      "Cell \u001b[1;32mIn[43], line 2\u001b[0m\n\u001b[0;32m      1\u001b[0m plotting\u001b[38;5;241m.\u001b[39mplot_event([event1, event2], figsize \u001b[38;5;241m=\u001b[39m (\u001b[38;5;241m15\u001b[39m,\u001b[38;5;241m5\u001b[39m))\n\u001b[1;32m----> 2\u001b[0m \u001b[43mplt\u001b[49m\u001b[38;5;241;43m.\u001b[39;49m\u001b[43mshow\u001b[49m()\n\u001b[0;32m      3\u001b[0m \u001b[38;5;124;03m'''\u001b[39;00m\n\u001b[0;32m      4\u001b[0m \u001b[38;5;124;03m what is the erro ?\u001b[39;00m\n\u001b[0;32m      5\u001b[0m \u001b[38;5;124;03m'''\u001b[39;00m \n",
      "File \u001b[1;32m~\\AppData\\Local\\Packages\\PythonSoftwareFoundation.Python.3.10_qbz5n2kfra8p0\\LocalCache\\local-packages\\Python310\\site-packages\\matplotlib\\_api\\__init__.py:217\u001b[0m, in \u001b[0;36mcaching_module_getattr.<locals>.__getattr__\u001b[1;34m(name)\u001b[0m\n\u001b[0;32m    215\u001b[0m \u001b[38;5;28;01mif\u001b[39;00m name \u001b[38;5;129;01min\u001b[39;00m props:\n\u001b[0;32m    216\u001b[0m     \u001b[38;5;28;01mreturn\u001b[39;00m props[name]\u001b[38;5;241m.\u001b[39m\u001b[38;5;21m__get__\u001b[39m(instance)\n\u001b[1;32m--> 217\u001b[0m \u001b[38;5;28;01mraise\u001b[39;00m \u001b[38;5;167;01mAttributeError\u001b[39;00m(\n\u001b[0;32m    218\u001b[0m     \u001b[38;5;124mf\u001b[39m\u001b[38;5;124m\"\u001b[39m\u001b[38;5;124mmodule \u001b[39m\u001b[38;5;132;01m{\u001b[39;00m\u001b[38;5;28mcls\u001b[39m\u001b[38;5;241m.\u001b[39m\u001b[38;5;18m__module__\u001b[39m\u001b[38;5;132;01m!r}\u001b[39;00m\u001b[38;5;124m has no attribute \u001b[39m\u001b[38;5;132;01m{\u001b[39;00mname\u001b[38;5;132;01m!r}\u001b[39;00m\u001b[38;5;124m\"\u001b[39m)\n",
      "\u001b[1;31mAttributeError\u001b[0m: module 'matplotlib' has no attribute 'show'"
     ]
    },
    {
     "data": {
      "image/png": "[encoded data removed]",
      "text/plain": [
       "<Figure size 1500x500 with 1 Axes>"
      ]
     },
     "metadata": {},
     "output_type": "display_data"
    }
   ],
   "source": [
    "plotting.plot_event([event1, event2], figsize = (15,5))\n",
    "plt.show()\n",
    "'''\n",
    " what is the erro ?\n",
    "''' "
   ]
  },
  {
   "cell_type": "code",
   "execution_count": 56,
   "metadata": {},
   "outputs": [
    {
     "name": "stderr",
     "output_type": "stream",
     "text": [
      "C:\\Users\\Dorsa\\AppData\\Local\\Packages\\PythonSoftwareFoundation.Python.3.10_qbz5n2kfra8p0\\LocalCache\\local-packages\\Python310\\site-packages\\nilearn\\glm\\first_level\\experimental_paradigm.py:167: UserWarning: The following unexpected columns in events data will be ignored: button_pushed, trigger, response_time, circle_duration, stim_file\n",
      "  warnings.warn(\n",
      "C:\\Users\\Dorsa\\AppData\\Local\\Packages\\PythonSoftwareFoundation.Python.3.10_qbz5n2kfra8p0\\LocalCache\\local-packages\\Python310\\site-packages\\nilearn\\glm\\first_level\\experimental_paradigm.py:167: UserWarning: The following unexpected columns in events data will be ignored: button_pushed, trigger, response_time, circle_duration, stim_file\n",
      "  warnings.warn(\n",
      "C:\\Users\\Dorsa\\AppData\\Local\\Packages\\PythonSoftwareFoundation.Python.3.10_qbz5n2kfra8p0\\LocalCache\\local-packages\\Python310\\site-packages\\nilearn\\glm\\first_level\\experimental_paradigm.py:167: UserWarning: The following unexpected columns in events data will be ignored: button_pushed, trigger, response_time, circle_duration, stim_file\n",
      "  warnings.warn(\n",
      "C:\\Users\\Dorsa\\AppData\\Local\\Packages\\PythonSoftwareFoundation.Python.3.10_qbz5n2kfra8p0\\LocalCache\\local-packages\\Python310\\site-packages\\nilearn\\glm\\first_level\\experimental_paradigm.py:167: UserWarning: The following unexpected columns in events data will be ignored: button_pushed, trigger, response_time, circle_duration, stim_file\n",
      "  warnings.warn(\n",
      "C:\\Users\\Dorsa\\AppData\\Local\\Packages\\PythonSoftwareFoundation.Python.3.10_qbz5n2kfra8p0\\LocalCache\\local-packages\\Python310\\site-packages\\nilearn\\glm\\first_level\\experimental_paradigm.py:167: UserWarning: The following unexpected columns in events data will be ignored: button_pushed, trigger, response_time, circle_duration, stim_file\n",
      "  warnings.warn(\n",
      "C:\\Users\\Dorsa\\AppData\\Local\\Packages\\PythonSoftwareFoundation.Python.3.10_qbz5n2kfra8p0\\LocalCache\\local-packages\\Python310\\site-packages\\nilearn\\glm\\first_level\\experimental_paradigm.py:198: UserWarning: Duplicated events were detected. Amplitudes of these events will be summed. You might want to verify your inputs.\n",
      "  warnings.warn(\n",
      "C:\\Users\\Dorsa\\AppData\\Local\\Packages\\PythonSoftwareFoundation.Python.3.10_qbz5n2kfra8p0\\LocalCache\\local-packages\\Python310\\site-packages\\nilearn\\glm\\first_level\\experimental_paradigm.py:167: UserWarning: The following unexpected columns in events data will be ignored: button_pushed, trigger, response_time, circle_duration, stim_file\n",
      "  warnings.warn(\n",
      "C:\\Users\\Dorsa\\AppData\\Local\\Packages\\PythonSoftwareFoundation.Python.3.10_qbz5n2kfra8p0\\LocalCache\\local-packages\\Python310\\site-packages\\nilearn\\glm\\first_level\\experimental_paradigm.py:167: UserWarning: The following unexpected columns in events data will be ignored: button_pushed, trigger, response_time, circle_duration, stim_file\n",
      "  warnings.warn(\n",
      "C:\\Users\\Dorsa\\AppData\\Local\\Packages\\PythonSoftwareFoundation.Python.3.10_qbz5n2kfra8p0\\LocalCache\\local-packages\\Python310\\site-packages\\nilearn\\glm\\first_level\\experimental_paradigm.py:167: UserWarning: The following unexpected columns in events data will be ignored: button_pushed, trigger, response_time, circle_duration, stim_file\n",
      "  warnings.warn(\n",
      "C:\\Users\\Dorsa\\AppData\\Local\\Packages\\PythonSoftwareFoundation.Python.3.10_qbz5n2kfra8p0\\LocalCache\\local-packages\\Python310\\site-packages\\nilearn\\glm\\first_level\\experimental_paradigm.py:167: UserWarning: The following unexpected columns in events data will be ignored: button_pushed, trigger, response_time, circle_duration, stim_file\n",
      "  warnings.warn(\n"
     ]
    }
   ],
   "source": [
    "# drift model type of denoising(physilogical , heart rate , resprition , motion ), high_pass what is the maximum , note : the highpass and drift model and hrf is not neccery to tell it becuse it has by drfualt values \n",
    " # drift model type the define is cosin , the None dont do anything becuse we have already denoised it  \n",
    " # hrf = convolving the brain work to what we detect the , number is \n",
    " # we have different type of hrf , like none , \n",
    " # dont use them in spm \n",
    "design_matrix_run1 = first_level.make_first_level_design_matrix(frame_times, event1, drift_model = 'cosine' ,high_pass = 0.01 ,hrf_model = 'spm' )\n",
    "design_matrix_run2 = first_level.make_first_level_design_matrix(frame_times, event2, drift_model = 'cosine' ,high_pass = 0.01 ,hrf_model = 'spm' )\n",
    "design_matrix_run3 = first_level.make_first_level_design_matrix(frame_times, event3, drift_model = 'cosine' ,high_pass = 0.01 ,hrf_model = 'spm' )\n",
    "design_matrix_run4 = first_level.make_first_level_design_matrix(frame_times, event4, drift_model = 'cosine' ,high_pass = 0.01 ,hrf_model = 'spm' )\n",
    "design_matrix_run5 = first_level.make_first_level_design_matrix(frame_times, event5, drift_model = 'cosine' ,high_pass = 0.01 ,hrf_model = 'spm' )\n",
    "design_matrix_run6 = first_level.make_first_level_design_matrix(frame_times, event6, drift_model = 'cosine' ,high_pass = 0.01 ,hrf_model = 'spm' )\n",
    "design_matrix_run7 = first_level.make_first_level_design_matrix(frame_times, event7, drift_model = 'cosine' ,high_pass = 0.01 ,hrf_model = 'spm' )\n",
    "design_matrix_run8 = first_level.make_first_level_design_matrix(frame_times, event8, drift_model = 'cosine' ,high_pass = 0.01 ,hrf_model = 'spm' )\n",
    "design_matrix_run9 = first_level.make_first_level_design_matrix(frame_times, event9, drift_model = 'cosine' ,high_pass = 0.01 ,hrf_model = 'spm' )\n",
    "\n"
   ]
  },
  {
   "cell_type": "code",
   "execution_count": 48,
   "metadata": {},
   "outputs": [
    {
     "data": {
      "image/png": "[encoded data removed]",
      "text/plain": [
       "<Figure size 376x1000 with 1 Axes>"
      ]
     },
     "metadata": {},
     "output_type": "display_data"
    }
   ],
   "source": [
    "plotting.plot_design_matrix(design_matrix_run1) # we work with 3 first \n",
    "plotting.show()"
   ]
  },
  {
   "cell_type": "code",
   "execution_count": 58,
   "metadata": {},
   "outputs": [],
   "source": [
    "fmri_img =[run1, run2, run3, run4, run5, run6, run7, run8, run9]\n",
    "design_metrics = [design_matrix_run1, design_matrix_run2, design_matrix_run3, design_matrix_run4, design_matrix_run5, design_matrix_run6, design_matrix_run7, design_matrix_run8,design_matrix_run9 ] "
   ]
  },
  {
   "cell_type": "code",
   "execution_count": 59,
   "metadata": {},
   "outputs": [],
   "source": [
    "mean_image = mean_img(fmri_img)"
   ]
  },
  {
   "cell_type": "code",
   "execution_count": 60,
   "metadata": {},
   "outputs": [
    {
     "data": {
      "text/plain": [
       "<nilearn.plotting.displays._slicers.OrthoSlicer at 0x279b458f0d0>"
      ]
     },
     "execution_count": 60,
     "metadata": {},
     "output_type": "execute_result"
    },
    {
     "data": {
      "image/png": "[encoded data removed]",
      "text/plain": [
       "<Figure size 660x350 with 4 Axes>"
      ]
     },
     "metadata": {},
     "output_type": "display_data"
    }
   ],
   "source": [
    "plotting.plot_anat(mean_image)"
   ]
  },
  {
   "cell_type": "code",
   "execution_count": 63,
   "metadata": {},
   "outputs": [
    {
     "name": "stderr",
     "output_type": "stream",
     "text": [
      "C:\\Users\\Dorsa\\AppData\\Local\\Packages\\PythonSoftwareFoundation.Python.3.10_qbz5n2kfra8p0\\LocalCache\\local-packages\\Python310\\site-packages\\nilearn\\maskers\\nifti_masker.py:110: UserWarning: imgs are being resampled to the mask_img resolution. This process is memory intensive. You might want to provide a target_affine that is equal to the affine of the imgs or resample the mask beforehand to save memory and computation time.\n",
      "  warnings.warn(\n",
      "C:\\Users\\Dorsa\\AppData\\Local\\Packages\\PythonSoftwareFoundation.Python.3.10_qbz5n2kfra8p0\\LocalCache\\local-packages\\Python310\\site-packages\\joblib\\memory.py:312: UserWarning: Casting data from int16 to float32\n",
      "  return self.func(*args, **kwargs)\n",
      "C:\\Users\\Dorsa\\AppData\\Local\\Packages\\PythonSoftwareFoundation.Python.3.10_qbz5n2kfra8p0\\LocalCache\\local-packages\\Python310\\site-packages\\nilearn\\maskers\\nifti_masker.py:110: UserWarning: imgs are being resampled to the mask_img resolution. This process is memory intensive. You might want to provide a target_affine that is equal to the affine of the imgs or resample the mask beforehand to save memory and computation time.\n",
      "  warnings.warn(\n",
      "C:\\Users\\Dorsa\\AppData\\Local\\Packages\\PythonSoftwareFoundation.Python.3.10_qbz5n2kfra8p0\\LocalCache\\local-packages\\Python310\\site-packages\\joblib\\memory.py:312: UserWarning: Casting data from int16 to float32\n",
      "  return self.func(*args, **kwargs)\n",
      "C:\\Users\\Dorsa\\AppData\\Local\\Packages\\PythonSoftwareFoundation.Python.3.10_qbz5n2kfra8p0\\LocalCache\\local-packages\\Python310\\site-packages\\nilearn\\maskers\\nifti_masker.py:110: UserWarning: imgs are being resampled to the mask_img resolution. This process is memory intensive. You might want to provide a target_affine that is equal to the affine of the imgs or resample the mask beforehand to save memory and computation time.\n",
      "  warnings.warn(\n",
      "C:\\Users\\Dorsa\\AppData\\Local\\Packages\\PythonSoftwareFoundation.Python.3.10_qbz5n2kfra8p0\\LocalCache\\local-packages\\Python310\\site-packages\\joblib\\memory.py:312: UserWarning: Casting data from int16 to float32\n",
      "  return self.func(*args, **kwargs)\n",
      "C:\\Users\\Dorsa\\AppData\\Local\\Packages\\PythonSoftwareFoundation.Python.3.10_qbz5n2kfra8p0\\LocalCache\\local-packages\\Python310\\site-packages\\nilearn\\maskers\\nifti_masker.py:110: UserWarning: imgs are being resampled to the mask_img resolution. This process is memory intensive. You might want to provide a target_affine that is equal to the affine of the imgs or resample the mask beforehand to save memory and computation time.\n",
      "  warnings.warn(\n",
      "C:\\Users\\Dorsa\\AppData\\Local\\Packages\\PythonSoftwareFoundation.Python.3.10_qbz5n2kfra8p0\\LocalCache\\local-packages\\Python310\\site-packages\\joblib\\memory.py:312: UserWarning: Casting data from int16 to float32\n",
      "  return self.func(*args, **kwargs)\n",
      "C:\\Users\\Dorsa\\AppData\\Local\\Packages\\PythonSoftwareFoundation.Python.3.10_qbz5n2kfra8p0\\LocalCache\\local-packages\\Python310\\site-packages\\nilearn\\maskers\\nifti_masker.py:110: UserWarning: imgs are being resampled to the mask_img resolution. This process is memory intensive. You might want to provide a target_affine that is equal to the affine of the imgs or resample the mask beforehand to save memory and computation time.\n",
      "  warnings.warn(\n",
      "C:\\Users\\Dorsa\\AppData\\Local\\Packages\\PythonSoftwareFoundation.Python.3.10_qbz5n2kfra8p0\\LocalCache\\local-packages\\Python310\\site-packages\\joblib\\memory.py:312: UserWarning: Casting data from int16 to float32\n",
      "  return self.func(*args, **kwargs)\n",
      "C:\\Users\\Dorsa\\AppData\\Local\\Packages\\PythonSoftwareFoundation.Python.3.10_qbz5n2kfra8p0\\LocalCache\\local-packages\\Python310\\site-packages\\nilearn\\maskers\\nifti_masker.py:110: UserWarning: imgs are being resampled to the mask_img resolution. This process is memory intensive. You might want to provide a target_affine that is equal to the affine of the imgs or resample the mask beforehand to save memory and computation time.\n",
      "  warnings.warn(\n",
      "C:\\Users\\Dorsa\\AppData\\Local\\Packages\\PythonSoftwareFoundation.Python.3.10_qbz5n2kfra8p0\\LocalCache\\local-packages\\Python310\\site-packages\\joblib\\memory.py:312: UserWarning: Casting data from int16 to float32\n",
      "  return self.func(*args, **kwargs)\n",
      "C:\\Users\\Dorsa\\AppData\\Local\\Packages\\PythonSoftwareFoundation.Python.3.10_qbz5n2kfra8p0\\LocalCache\\local-packages\\Python310\\site-packages\\nilearn\\glm\\first_level\\first_level.py:707: UserWarning: Mean values of 0 observed. The data have probably been centered.Scaling might not work as expected\n",
      "  Y, _ = mean_scaling(Y, self.signal_scaling)\n",
      "C:\\Users\\Dorsa\\AppData\\Local\\Packages\\PythonSoftwareFoundation.Python.3.10_qbz5n2kfra8p0\\LocalCache\\local-packages\\Python310\\site-packages\\nilearn\\maskers\\nifti_masker.py:110: UserWarning: imgs are being resampled to the mask_img resolution. This process is memory intensive. You might want to provide a target_affine that is equal to the affine of the imgs or resample the mask beforehand to save memory and computation time.\n",
      "  warnings.warn(\n",
      "C:\\Users\\Dorsa\\AppData\\Local\\Packages\\PythonSoftwareFoundation.Python.3.10_qbz5n2kfra8p0\\LocalCache\\local-packages\\Python310\\site-packages\\joblib\\memory.py:312: UserWarning: Casting data from int16 to float32\n",
      "  return self.func(*args, **kwargs)\n",
      "C:\\Users\\Dorsa\\AppData\\Local\\Packages\\PythonSoftwareFoundation.Python.3.10_qbz5n2kfra8p0\\LocalCache\\local-packages\\Python310\\site-packages\\nilearn\\glm\\first_level\\first_level.py:707: UserWarning: Mean values of 0 observed. The data have probably been centered.Scaling might not work as expected\n",
      "  Y, _ = mean_scaling(Y, self.signal_scaling)\n",
      "C:\\Users\\Dorsa\\AppData\\Local\\Packages\\PythonSoftwareFoundation.Python.3.10_qbz5n2kfra8p0\\LocalCache\\local-packages\\Python310\\site-packages\\nilearn\\maskers\\nifti_masker.py:110: UserWarning: imgs are being resampled to the mask_img resolution. This process is memory intensive. You might want to provide a target_affine that is equal to the affine of the imgs or resample the mask beforehand to save memory and computation time.\n",
      "  warnings.warn(\n",
      "C:\\Users\\Dorsa\\AppData\\Local\\Packages\\PythonSoftwareFoundation.Python.3.10_qbz5n2kfra8p0\\LocalCache\\local-packages\\Python310\\site-packages\\joblib\\memory.py:312: UserWarning: Casting data from int16 to float32\n",
      "  return self.func(*args, **kwargs)\n",
      "C:\\Users\\Dorsa\\AppData\\Local\\Packages\\PythonSoftwareFoundation.Python.3.10_qbz5n2kfra8p0\\LocalCache\\local-packages\\Python310\\site-packages\\nilearn\\glm\\first_level\\first_level.py:707: UserWarning: Mean values of 0 observed. The data have probably been centered.Scaling might not work as expected\n",
      "  Y, _ = mean_scaling(Y, self.signal_scaling)\n"
     ]
    }
   ],
   "source": [
    "fmri_glm = first_level.FirstLevelModel()\n",
    "fit_glm = fmri_glm.fit(fmri_img , design_matrices= design_metrics) "
   ]
  },
  {
   "cell_type": "code",
   "execution_count": 62,
   "metadata": {},
   "outputs": [
    {
     "data": {
      "text/html": [
       "<div>\n",
       "<style scoped>\n",
       "    .dataframe tbody tr th:only-of-type {\n",
       "        vertical-align: middle;\n",
       "    }\n",
       "\n",
       "    .dataframe tbody tr th {\n",
       "        vertical-align: top;\n",
       "    }\n",
       "\n",
       "    .dataframe thead th {\n",
       "        text-align: right;\n",
       "    }\n",
       "</style>\n",
       "<table border=\"1\" class=\"dataframe\">\n",
       "  <thead>\n",
       "    <tr style=\"text-align: right;\">\n",
       "      <th></th>\n",
       "      <th>FAMOUS</th>\n",
       "      <th>SCRAMBLED</th>\n",
       "      <th>UNFAMILIAR</th>\n",
       "      <th>drift_1</th>\n",
       "      <th>drift_2</th>\n",
       "      <th>drift_3</th>\n",
       "      <th>drift_4</th>\n",
       "      <th>drift_5</th>\n",
       "      <th>drift_6</th>\n",
       "      <th>drift_7</th>\n",
       "      <th>drift_8</th>\n",
       "      <th>constant</th>\n",
       "    </tr>\n",
       "  </thead>\n",
       "  <tbody>\n",
       "    <tr>\n",
       "      <th>0</th>\n",
       "      <td>0.000000</td>\n",
       "      <td>0.000000</td>\n",
       "      <td>0.000000</td>\n",
       "      <td>0.098055</td>\n",
       "      <td>0.098047</td>\n",
       "      <td>0.098033</td>\n",
       "      <td>0.098013</td>\n",
       "      <td>0.097988</td>\n",
       "      <td>0.097957</td>\n",
       "      <td>0.097921</td>\n",
       "      <td>0.097879</td>\n",
       "      <td>1.0</td>\n",
       "    </tr>\n",
       "    <tr>\n",
       "      <th>2</th>\n",
       "      <td>0.000000</td>\n",
       "      <td>0.000000</td>\n",
       "      <td>0.017962</td>\n",
       "      <td>0.098033</td>\n",
       "      <td>0.097957</td>\n",
       "      <td>0.097832</td>\n",
       "      <td>0.097656</td>\n",
       "      <td>0.097430</td>\n",
       "      <td>0.097153</td>\n",
       "      <td>0.096828</td>\n",
       "      <td>0.096452</td>\n",
       "      <td>1.0</td>\n",
       "    </tr>\n",
       "    <tr>\n",
       "      <th>4</th>\n",
       "      <td>0.000000</td>\n",
       "      <td>0.000000</td>\n",
       "      <td>0.141787</td>\n",
       "      <td>0.097988</td>\n",
       "      <td>0.097779</td>\n",
       "      <td>0.097430</td>\n",
       "      <td>0.096942</td>\n",
       "      <td>0.096316</td>\n",
       "      <td>0.095552</td>\n",
       "      <td>0.094653</td>\n",
       "      <td>0.093618</td>\n",
       "      <td>1.0</td>\n",
       "    </tr>\n",
       "    <tr>\n",
       "      <th>6</th>\n",
       "      <td>0.000000</td>\n",
       "      <td>0.000000</td>\n",
       "      <td>0.244265</td>\n",
       "      <td>0.097921</td>\n",
       "      <td>0.097511</td>\n",
       "      <td>0.096828</td>\n",
       "      <td>0.095874</td>\n",
       "      <td>0.094653</td>\n",
       "      <td>0.093167</td>\n",
       "      <td>0.091421</td>\n",
       "      <td>0.089419</td>\n",
       "      <td>1.0</td>\n",
       "    </tr>\n",
       "    <tr>\n",
       "      <th>8</th>\n",
       "      <td>0.000000</td>\n",
       "      <td>0.000000</td>\n",
       "      <td>0.282872</td>\n",
       "      <td>0.097832</td>\n",
       "      <td>0.097153</td>\n",
       "      <td>0.096027</td>\n",
       "      <td>0.094456</td>\n",
       "      <td>0.092450</td>\n",
       "      <td>0.090017</td>\n",
       "      <td>0.087168</td>\n",
       "      <td>0.083916</td>\n",
       "      <td>1.0</td>\n",
       "    </tr>\n",
       "    <tr>\n",
       "      <th>...</th>\n",
       "      <td>...</td>\n",
       "      <td>...</td>\n",
       "      <td>...</td>\n",
       "      <td>...</td>\n",
       "      <td>...</td>\n",
       "      <td>...</td>\n",
       "      <td>...</td>\n",
       "      <td>...</td>\n",
       "      <td>...</td>\n",
       "      <td>...</td>\n",
       "      <td>...</td>\n",
       "      <td>...</td>\n",
       "    </tr>\n",
       "    <tr>\n",
       "      <th>406</th>\n",
       "      <td>-0.001582</td>\n",
       "      <td>-0.041020</td>\n",
       "      <td>0.000000</td>\n",
       "      <td>-0.097832</td>\n",
       "      <td>0.097153</td>\n",
       "      <td>-0.096027</td>\n",
       "      <td>0.094456</td>\n",
       "      <td>-0.092450</td>\n",
       "      <td>0.090017</td>\n",
       "      <td>-0.087168</td>\n",
       "      <td>0.083916</td>\n",
       "      <td>1.0</td>\n",
       "    </tr>\n",
       "    <tr>\n",
       "      <th>408</th>\n",
       "      <td>-0.000637</td>\n",
       "      <td>-0.037794</td>\n",
       "      <td>0.000000</td>\n",
       "      <td>-0.097921</td>\n",
       "      <td>0.097511</td>\n",
       "      <td>-0.096828</td>\n",
       "      <td>0.095874</td>\n",
       "      <td>-0.094653</td>\n",
       "      <td>0.093167</td>\n",
       "      <td>-0.091421</td>\n",
       "      <td>0.089419</td>\n",
       "      <td>1.0</td>\n",
       "    </tr>\n",
       "    <tr>\n",
       "      <th>410</th>\n",
       "      <td>-0.000204</td>\n",
       "      <td>-0.027816</td>\n",
       "      <td>0.000000</td>\n",
       "      <td>-0.097988</td>\n",
       "      <td>0.097779</td>\n",
       "      <td>-0.097430</td>\n",
       "      <td>0.096942</td>\n",
       "      <td>-0.096316</td>\n",
       "      <td>0.095552</td>\n",
       "      <td>-0.094653</td>\n",
       "      <td>0.093618</td>\n",
       "      <td>1.0</td>\n",
       "    </tr>\n",
       "    <tr>\n",
       "      <th>412</th>\n",
       "      <td>-0.000037</td>\n",
       "      <td>-0.017444</td>\n",
       "      <td>0.000000</td>\n",
       "      <td>-0.098033</td>\n",
       "      <td>0.097957</td>\n",
       "      <td>-0.097832</td>\n",
       "      <td>0.097656</td>\n",
       "      <td>-0.097430</td>\n",
       "      <td>0.097153</td>\n",
       "      <td>-0.096828</td>\n",
       "      <td>0.096452</td>\n",
       "      <td>1.0</td>\n",
       "    </tr>\n",
       "    <tr>\n",
       "      <th>414</th>\n",
       "      <td>0.000000</td>\n",
       "      <td>-0.009594</td>\n",
       "      <td>0.000000</td>\n",
       "      <td>-0.098055</td>\n",
       "      <td>0.098047</td>\n",
       "      <td>-0.098033</td>\n",
       "      <td>0.098013</td>\n",
       "      <td>-0.097988</td>\n",
       "      <td>0.097957</td>\n",
       "      <td>-0.097921</td>\n",
       "      <td>0.097879</td>\n",
       "      <td>1.0</td>\n",
       "    </tr>\n",
       "  </tbody>\n",
       "</table>\n",
       "<p>208 rows × 12 columns</p>\n",
       "</div>"
      ],
      "text/plain": [
       "       FAMOUS  SCRAMBLED  UNFAMILIAR   drift_1   drift_2   drift_3   drift_4  \\\n",
       "0    0.000000   0.000000    0.000000  0.098055  0.098047  0.098033  0.098013   \n",
       "2    0.000000   0.000000    0.017962  0.098033  0.097957  0.097832  0.097656   \n",
       "4    0.000000   0.000000    0.141787  0.097988  0.097779  0.097430  0.096942   \n",
       "6    0.000000   0.000000    0.244265  0.097921  0.097511  0.096828  0.095874   \n",
       "8    0.000000   0.000000    0.282872  0.097832  0.097153  0.096027  0.094456   \n",
       "..        ...        ...         ...       ...       ...       ...       ...   \n",
       "406 -0.001582  -0.041020    0.000000 -0.097832  0.097153 -0.096027  0.094456   \n",
       "408 -0.000637  -0.037794    0.000000 -0.097921  0.097511 -0.096828  0.095874   \n",
       "410 -0.000204  -0.027816    0.000000 -0.097988  0.097779 -0.097430  0.096942   \n",
       "412 -0.000037  -0.017444    0.000000 -0.098033  0.097957 -0.097832  0.097656   \n",
       "414  0.000000  -0.009594    0.000000 -0.098055  0.098047 -0.098033  0.098013   \n",
       "\n",
       "      drift_5   drift_6   drift_7   drift_8  constant  \n",
       "0    0.097988  0.097957  0.097921  0.097879       1.0  \n",
       "2    0.097430  0.097153  0.096828  0.096452       1.0  \n",
       "4    0.096316  0.095552  0.094653  0.093618       1.0  \n",
       "6    0.094653  0.093167  0.091421  0.089419       1.0  \n",
       "8    0.092450  0.090017  0.087168  0.083916       1.0  \n",
       "..        ...       ...       ...       ...       ...  \n",
       "406 -0.092450  0.090017 -0.087168  0.083916       1.0  \n",
       "408 -0.094653  0.093167 -0.091421  0.089419       1.0  \n",
       "410 -0.096316  0.095552 -0.094653  0.093618       1.0  \n",
       "412 -0.097430  0.097153 -0.096828  0.096452       1.0  \n",
       "414 -0.097988  0.097957 -0.097921  0.097879       1.0  \n",
       "\n",
       "[208 rows x 12 columns]"
      ]
     },
     "execution_count": 62,
     "metadata": {},
     "output_type": "execute_result"
    }
   ],
   "source": [
    "design_matrix_run1"
   ]
  },
  {
   "cell_type": "code",
   "execution_count": 65,
   "metadata": {},
   "outputs": [
    {
     "data": {
      "text/plain": [
       "array([[1., 0., 0., 0., 0., 0., 0., 0., 0., 0., 0., 0.],\n",
       "       [0., 1., 0., 0., 0., 0., 0., 0., 0., 0., 0., 0.],\n",
       "       [0., 0., 1., 0., 0., 0., 0., 0., 0., 0., 0., 0.],\n",
       "       [0., 0., 0., 1., 0., 0., 0., 0., 0., 0., 0., 0.],\n",
       "       [0., 0., 0., 0., 1., 0., 0., 0., 0., 0., 0., 0.],\n",
       "       [0., 0., 0., 0., 0., 1., 0., 0., 0., 0., 0., 0.],\n",
       "       [0., 0., 0., 0., 0., 0., 1., 0., 0., 0., 0., 0.],\n",
       "       [0., 0., 0., 0., 0., 0., 0., 1., 0., 0., 0., 0.],\n",
       "       [0., 0., 0., 0., 0., 0., 0., 0., 1., 0., 0., 0.],\n",
       "       [0., 0., 0., 0., 0., 0., 0., 0., 0., 1., 0., 0.],\n",
       "       [0., 0., 0., 0., 0., 0., 0., 0., 0., 0., 1., 0.],\n",
       "       [0., 0., 0., 0., 0., 0., 0., 0., 0., 0., 0., 1.]])"
      ]
     },
     "execution_count": 65,
     "metadata": {},
     "output_type": "execute_result"
    }
   ],
   "source": [
    "contrast = np.eye(design_matrix_run1.shape[1])\n",
    "contrast"
   ]
  },
  {
   "cell_type": "code",
   "execution_count": 70,
   "metadata": {},
   "outputs": [
    {
     "name": "stdout",
     "output_type": "stream",
     "text": [
      "0 FAMOUS\n",
      "1 SCRAMBLED\n",
      "2 UNFAMILIAR\n",
      "3 drift_1\n",
      "4 drift_2\n",
      "5 drift_3\n",
      "6 drift_4\n",
      "7 drift_5\n",
      "8 drift_6\n",
      "9 drift_7\n",
      "10 drift_8\n",
      "11 constant\n",
      "{'FAMOUS': array([1., 0., 0., 0., 0., 0., 0., 0., 0., 0., 0., 0.]), 'SCRAMBLED': array([0., 1., 0., 0., 0., 0., 0., 0., 0., 0., 0., 0.]), 'UNFAMILIAR': array([0., 0., 1., 0., 0., 0., 0., 0., 0., 0., 0., 0.]), 'drift_1': array([0., 0., 0., 1., 0., 0., 0., 0., 0., 0., 0., 0.]), 'drift_2': array([0., 0., 0., 0., 1., 0., 0., 0., 0., 0., 0., 0.]), 'drift_3': array([0., 0., 0., 0., 0., 1., 0., 0., 0., 0., 0., 0.]), 'drift_4': array([0., 0., 0., 0., 0., 0., 1., 0., 0., 0., 0., 0.]), 'drift_5': array([0., 0., 0., 0., 0., 0., 0., 1., 0., 0., 0., 0.]), 'drift_6': array([0., 0., 0., 0., 0., 0., 0., 0., 1., 0., 0., 0.]), 'drift_7': array([0., 0., 0., 0., 0., 0., 0., 0., 0., 1., 0., 0.]), 'drift_8': array([0., 0., 0., 0., 0., 0., 0., 0., 0., 0., 1., 0.]), 'constant': array([0., 0., 0., 0., 0., 0., 0., 0., 0., 0., 0., 1.])}\n"
     ]
    }
   ],
   "source": [
    "base_contrast = {}\n",
    "for i, column in enumerate (design_matrix_run1.columns):\n",
    "    print(i, column)\n",
    "    base_contrast[column] = contrast[i]\n",
    "print(base_contrast)"
   ]
  },
  {
   "cell_type": "code",
   "execution_count": 73,
   "metadata": {},
   "outputs": [
    {
     "name": "stdout",
     "output_type": "stream",
     "text": [
      "[ 1. -1.  0.  0.  0.  0.  0.  0.  0.  0.  0.  0.]\n"
     ]
    },
    {
     "data": {
      "text/plain": [
       "'Famous >> Unfamiliar'"
      ]
     },
     "execution_count": 73,
     "metadata": {},
     "output_type": "execute_result"
    }
   ],
   "source": [
    "'''famous >>> screamble'''\n",
    "famous_scrambled = base_contrast['FAMOUS']-base_contrast['SCRAMBLED']\n",
    "print(famous_scrambled)\n",
    "\n",
    "'''Famous >> Unfamiliar'''"
   ]
  },
  {
   "cell_type": "code",
   "execution_count": null,
   "metadata": {},
   "outputs": [],
   "source": [
    "'''Face >> Scrambled'''\n",
    "famous_scrambled = (base_contrast['FAMOUS'] + base_contrast['UNFAMILIAR']) / 2 - base_contrast['SCRAMBLED']"
   ]
  },
  {
   "cell_type": "code",
   "execution_count": 77,
   "metadata": {},
   "outputs": [],
   "source": [
    "'''Famous >> Unfamiliar'''\n",
    "famous_unfamiliar = base_contrast['FAMOUS'] -base_contrast['SCRAMBLED']\n"
   ]
  },
  {
   "cell_type": "code",
   "execution_count": 74,
   "metadata": {},
   "outputs": [
    {
     "data": {
      "text/plain": [
       "<Axes: label='conditions'>"
      ]
     },
     "execution_count": 74,
     "metadata": {},
     "output_type": "execute_result"
    },
    {
     "data": {
      "image/png": "[encoded data removed]",
      "text/plain": [
       "<Figure size 480x190 with 1 Axes>"
      ]
     },
     "metadata": {},
     "output_type": "display_data"
    }
   ],
   "source": [
    "plotting.plot_contrast_matrix(famous_scrambled, design_matrix_run1)"
   ]
  },
  {
   "cell_type": "code",
   "execution_count": null,
   "metadata": {},
   "outputs": [],
   "source": [
    "z_map = fit_glm.compute_contrast([famous_scrambled, famous_scrambled], output_type = 'z_score')\n"
   ]
  },
  {
   "cell_type": "code",
   "execution_count": null,
   "metadata": {},
   "outputs": [],
   "source": [
    "plotting.plot_stat_map(z_map, bg_img = mean_image, threshold = 2.3, display_mode = 'z', cut_coords = 3, title = 'Face > Scrambled')\n"
   ]
  }
 ],
 "metadata": {
  "kernelspec": {
   "display_name": "Python 3",
   "language": "python",
   "name": "python3"
  },
  "language_info": {
   "codemirror_mode": {
    "name": "ipython",
    "version": 3
   },
   "file_extension": ".py",
   "mimetype": "text/x-python",
   "name": "python",
   "nbconvert_exporter": "python",
   "pygments_lexer": "ipython3",
   "version": "3.10.11"
  }
 },
 "nbformat": 4,
 "nbformat_minor": 2
}
